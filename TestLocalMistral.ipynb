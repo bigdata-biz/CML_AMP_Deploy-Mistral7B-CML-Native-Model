{
 "cells": [
  {
   "cell_type": "code",
   "execution_count": 7,
   "id": "ff231861-9eeb-4792-85e3-719a5d0fac8a",
   "metadata": {},
   "outputs": [],
   "source": [
    "import csv\n",
    "import requests\n",
    "import time\n",
    "\n",
    "def call_api(endpoint, data=None, headers=None):\n",
    "    try:\n",
    "        response = requests.post(endpoint, data=data, headers=headers)\n",
    "        response.raise_for_status()  # Raise an exception for 4xx or 5xx status codes\n",
    "        return response.json()  # Parse response JSON\n",
    "    except requests.exceptions.RequestException as e:\n",
    "        print(\"Error making API request:\", e)\n",
    "        return None\n"
   ]
  },
  {
   "cell_type": "code",
   "execution_count": 8,
   "id": "1e07f800-39db-4eb2-bc21-e360e39a495a",
   "metadata": {},
   "outputs": [],
   "source": [
    "# API endpoint URL (수정 필요)\n",
    "# endpoint 확인: Model Deployments >  모델 선택 > shell 샘플 예시에서 url 복사 붙여넣기\n",
    "endpoint = \"https://modelservice.ml-c734cd85-e50.han-work.a465-9q4k.cloudera.site/model\"\n",
    "\n",
    "# Access Key (수정 필요)\n",
    "# Model Access key 확인: Model Deployments >  모델 선택 > Settings > Access Key 복사 붙여넣기\n",
    "Akey = 'msllgmq5cvjfyobhom4uyh2r9ntcfwsy'\n",
    "\n",
    "# Request headers\n",
    "headers = {'Content-Type': 'application/json'}"
   ]
  },
  {
   "cell_type": "code",
   "execution_count": 10,
   "id": "367cf75f-eadb-406a-aa30-406d777fa26a",
   "metadata": {},
   "outputs": [],
   "source": [
    "#Prompt\n",
    "role1 = 'You are from Cloudera ' \n",
    "action = 'write an email to '\n",
    "context = 'to thank them for speaking to us about '\n",
    "topics = 'GenAI and enabling your organizations success.'\n",
    "\n",
    "\n",
    "promptPart1 = role1 + action# + sender\n",
    "promptPart2 = context + topics\n",
    "endofPrompt = \" ** \"\n",
    "endofResponse = \", 'response_time_s':\""
   ]
  },
  {
   "cell_type": "code",
   "execution_count": 13,
   "id": "53eb8883-c10a-4869-b405-2389830da437",
   "metadata": {},
   "outputs": [
    {
     "name": "stdout",
     "output_type": "stream",
     "text": [
      "You are from Cloudera write an email to John from  New Yorkto thank them for speaking to us about GenAI and enabling your organizations success. **  Subject: Heartfelt Thanks for Your Enlightening GenAI Presentation\n",
      "\n",
      "Dear John,\n",
      "\n",
      "I hope this email finds you well. I am writing to express my sincere gratitude for the insightful and engaging presentation you delivered on\n",
      "--------------------------------------------------\n",
      "You are from Cloudera write an email to Alice from  Los Angelesto thank them for speaking to us about GenAI and enabling your organizations success. **  Subject: Heartfelt Thanks for Your Enlightening GenAI Presentation\n",
      "\n",
      "Dear Alice,\n",
      "\n",
      "I hope this email finds you well in sunny Los Angeles. I am writing to express our sincere gratitude for the insightful and\n",
      "--------------------------------------------------\n",
      "You are from Cloudera write an email to Bob from  Chicagoto thank them for speaking to us about GenAI and enabling your organizations success. **  Subject: Heartfelt Thanks for the Enlightening GenAI Presentation\n",
      "\n",
      "Dear Bob,\n",
      "\n",
      "I hope this email finds you well. I am writing to express my sincere gratitude for the insightful and engaging presentation you delivered on\n",
      "--------------------------------------------------\n",
      "You are from Cloudera write an email to Emily from  San Franciscoto thank them for speaking to us about GenAI and enabling your organizations success. **  Subject: Heartfelt Thanks for the Enlightening GenAI Discussion\n",
      "\n",
      "Dear Emily,\n",
      "\n",
      "I hope this email finds you well in the bustling city of San Francisco. I am writing to express my sincere gratitude for the\n",
      "--------------------------------------------------\n"
     ]
    }
   ],
   "source": [
    "# Open CSV file\n",
    "with open('example.csv', newline='') as csvfile:\n",
    "    reader = csv.reader(csvfile)\n",
    "    next(reader)  # Skip header row\n",
    "    for row in reader:\n",
    "        # Construct request data string using row information\n",
    "        request_data = '{\"accessKey\":\"'+ Akey + '\",\"request\":{\"prompt\":\"'+ promptPart1 + row[0] + ' from ' + row[2] + promptPart2 + endofPrompt + '\"}}'\n",
    "        {\"accessKey\":Akey,\n",
    "         \"request\":{\"prompt\":f\"{promptPart1} write an email to Emily from  San Franciscoto thank them for speaking to us about GenAI and enabling your organizations success. ** \"}}\n",
    "        response_data = call_api(endpoint, data=request_data, headers=headers)\n",
    "        \n",
    "        # print(request_data)\n",
    "        if response_data:\n",
    "            print(response_data)\n",
    "        else:\n",
    "            print(\"Failed to fetch data from the API.\")\n",
    "        print('-'*50)\n"
   ]
  }
 ],
 "metadata": {
  "kernelspec": {
   "display_name": "Python 3 (ipykernel)",
   "language": "python",
   "name": "python3"
  },
  "language_info": {
   "codemirror_mode": {
    "name": "ipython",
    "version": 3
   },
   "file_extension": ".py",
   "mimetype": "text/x-python",
   "name": "python",
   "nbconvert_exporter": "python",
   "pygments_lexer": "ipython3",
   "version": "3.10.14"
  }
 },
 "nbformat": 4,
 "nbformat_minor": 5
}
